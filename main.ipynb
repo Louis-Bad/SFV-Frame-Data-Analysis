{
 "cells": [
  {
   "cell_type": "markdown",
   "metadata": {},
   "source": [
    "# Street Fighter V Frame Data Analysis"
   ]
  },
  {
   "cell_type": "markdown",
   "metadata": {},
   "source": [
    "## Data Import & Set up"
   ]
  },
  {
   "cell_type": "code",
   "execution_count": 2,
   "metadata": {},
   "outputs": [],
   "source": [
    "import requests\n",
    "from bs4 import BeautifulSoup\n",
    "from selenium import webdriver\n",
    "from selenium.webdriver.support.ui import WebDriverWait\n",
    "from selenium.webdriver.support import expected_conditions as EC\n",
    "from selenium.webdriver.common.by import By"
   ]
  },
  {
   "cell_type": "markdown",
   "metadata": {},
   "source": [
    "## Web Scraping"
   ]
  },
  {
   "cell_type": "markdown",
   "metadata": {},
   "source": [
    "#### Using Beautiful Soup"
   ]
  },
  {
   "cell_type": "code",
   "execution_count": 6,
   "metadata": {},
   "outputs": [],
   "source": [
    "#scraping the web page with BeautifulSoup \n",
    "\n",
    "#using requests to access the Guile (SFV character) frame data page\n",
    "page_url = \"https://game.capcom.com/cfn/sfv/character/guile/frame/table#vt1\"\n",
    "web_page = requests.get(page_url)\n",
    "\n",
    "#parsing the sites html with BS and printing an easier to read form \n",
    "guile_soup = BeautifulSoup(web_page.content, 'html.parser')\n",
    "print(guile_soup.prettify)\n",
    "\n",
    "#locating the table with the desired data. this returned an empty list\n",
    "guile_soup.find(\"table\", {\"class\": \"frameTbl\"})"
   ]
  },
  {
   "cell_type": "markdown",
   "metadata": {},
   "source": [
    "It turns out that this table could not be found by Beautiful Soup even though I can see the element I'm searching for in the inspect element feature. I found that the div containing the table I want to access also has a **\\<script>..\\<script>** tag inside it. <br>\n",
    "    Most likely, the html for the target table is being **dynamically generated** by JavaSript code. Because BS interacts with the url without loading the page, any content that is written in real-time will not be there yet. <br>\n",
    "    So I will use Selenium to write an autamated script that will navigate through the site, take me through steams login and security email confirmation process and then bring up a characters frame data page to be scrapped with BS. <br>\n",
    "    Later this script will be written to scrape all characters frame data.\n",
    "    <br><br>"
   ]
  },
  {
   "cell_type": "markdown",
   "metadata": {},
   "source": [
    "#### Using Selenium"
   ]
  },
  {
   "cell_type": "code",
   "execution_count": 13,
   "metadata": {},
   "outputs": [],
   "source": [
    "#I will be creating a script that will sign me into capcoms site and take me to a characters frame data page. Capcom uses Steams login API for PC logins\n",
    "\n",
    "#setting up the web driver. arg takes the web-drivers path directory\n",
    "#the 'r' denotes a raw string, needed because of the windows directory syntax\n",
    "browser = webdriver.Chrome(r'C:\\Users\\Louis\\Desktop\\experimental_env\\chrome_driver\\chromedriver.exe')\n",
    "browser.maximize_window()\n",
    "browser.get(page_url)\n",
    "\n",
    "#1st page\n",
    "#locating and clicking on the log in button. Had to use webdriver.get() to access the hyperlink as the button wasn't clickable\n",
    "steam_signin = browser.find_element_by_class_name('loginSteam')\n",
    "browser.get(steam_signin.get_attribute('href'))\n",
    "\n",
    "#2nd page\n",
    "#clicking the'agree' button on t&c page\n",
    "browser.find_element_by_css_selector(\"[type = 'submit']\").click()\n",
    "\n",
    "#3rd page\n",
    "#entering steam login details"
   ]
  },
  {
   "cell_type": "code",
   "execution_count": 15,
   "metadata": {},
   "outputs": [],
   "source": [
    "#After login in\n",
    "\n",
    "# go_to_button = browser.find_element_by_link_text('Go to Frame List').click()"
   ]
  },
  {
   "cell_type": "code",
   "execution_count": 31,
   "metadata": {},
   "outputs": [],
   "source": [
    "# browser.refresh()"
   ]
  },
  {
   "cell_type": "code",
   "execution_count": null,
   "metadata": {},
   "outputs": [],
   "source": []
  },
  {
   "cell_type": "code",
   "execution_count": null,
   "metadata": {},
   "outputs": [],
   "source": []
  },
  {
   "cell_type": "code",
   "execution_count": null,
   "metadata": {},
   "outputs": [],
   "source": []
  },
  {
   "cell_type": "code",
   "execution_count": null,
   "metadata": {},
   "outputs": [],
   "source": []
  },
  {
   "cell_type": "code",
   "execution_count": null,
   "metadata": {},
   "outputs": [],
   "source": []
  }
 ],
 "metadata": {
  "kernelspec": {
   "display_name": "Python 3",
   "language": "python",
   "name": "python3"
  },
  "language_info": {
   "codemirror_mode": {
    "name": "ipython",
    "version": 3
   },
   "file_extension": ".py",
   "mimetype": "text/x-python",
   "name": "python",
   "nbconvert_exporter": "python",
   "pygments_lexer": "ipython3",
   "version": "3.7.9"
  }
 },
 "nbformat": 4,
 "nbformat_minor": 4
}
